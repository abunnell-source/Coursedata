{
  "nbformat": 4,
  "nbformat_minor": 0,
  "metadata": {
    "colab": {
      "name": "fromPythonToGit.ipynb",
      "provenance": [],
      "collapsed_sections": [],
      "include_colab_link": true
    },
    "kernelspec": {
      "name": "python3",
      "display_name": "Python 3"
    }
  },
  "cells": [
    {
      "cell_type": "markdown",
      "metadata": {
        "id": "view-in-github",
        "colab_type": "text"
      },
      "source": [
        "<a href=\"https://colab.research.google.com/github/abunnell-source/Coursedata/blob/master/fromPythonToGit.ipynb\" target=\"_parent\"><img src=\"https://colab.research.google.com/assets/colab-badge.svg\" alt=\"Open In Colab\"/></a>"
      ]
    },
    {
      "cell_type": "markdown",
      "metadata": {
        "id": "1oyJtInPRdQP",
        "colab_type": "text"
      },
      "source": [
        "**Step one:**\n",
        "\n",
        "Load your data:"
      ]
    },
    {
      "cell_type": "code",
      "metadata": {
        "id": "RFlks96qRYWl",
        "colab_type": "code",
        "colab": {}
      },
      "source": [
        "#write code here"
      ],
      "execution_count": 0,
      "outputs": []
    },
    {
      "cell_type": "markdown",
      "metadata": {
        "id": "2lj2KN1aRbwq",
        "colab_type": "text"
      },
      "source": [
        "**Step two:**\n",
        "\n",
        "Clean your data:"
      ]
    },
    {
      "cell_type": "code",
      "metadata": {
        "id": "ePG8hRiLRu3M",
        "colab_type": "code",
        "colab": {}
      },
      "source": [
        "#write code here"
      ],
      "execution_count": 0,
      "outputs": []
    },
    {
      "cell_type": "markdown",
      "metadata": {
        "id": "4ywUkBJQRy6S",
        "colab_type": "text"
      },
      "source": [
        "**Step three:**\n",
        "\n",
        "Format your data:"
      ]
    },
    {
      "cell_type": "code",
      "metadata": {
        "id": "xhlPfoTTRyJ1",
        "colab_type": "code",
        "colab": {}
      },
      "source": [
        "#write code here"
      ],
      "execution_count": 0,
      "outputs": []
    },
    {
      "cell_type": "markdown",
      "metadata": {
        "id": "P9bBF0BbSJum",
        "colab_type": "text"
      },
      "source": [
        "**Step five:**\n",
        "\n",
        "Go to github and create repository for your clean and formatted data."
      ]
    },
    {
      "cell_type": "markdown",
      "metadata": {
        "id": "bZba94hfSZ3R",
        "colab_type": "text"
      },
      "source": [
        "**Step six:**\n",
        "\n",
        "Fill this information to clone the repo from github:"
      ]
    },
    {
      "cell_type": "code",
      "metadata": {
        "id": "QtxSMdutR6Qu",
        "colab_type": "code",
        "outputId": "fb839f0e-1845-436d-b4b3-209905319fca",
        "colab": {
          "base_uri": "https://localhost:8080/",
          "height": 35
        }
      },
      "source": [
        "import os\n",
        "from getpass import getpass\n",
        "import urllib\n",
        "\n",
        "user = #writehere\n",
        "email= #writehere\n",
        "locationOfRepo= #writehere (omit https://)\n",
        "password = getpass('Password: ')"
      ],
      "execution_count": 0,
      "outputs": [
        {
          "output_type": "stream",
          "text": [
            "Password: ··········\n"
          ],
          "name": "stdout"
        }
      ]
    },
    {
      "cell_type": "markdown",
      "metadata": {
        "id": "yE3cOSzSVKQz",
        "colab_type": "text"
      },
      "source": [
        "**Step seven:**\n",
        "\n",
        "Now clone repo:"
      ]
    },
    {
      "cell_type": "code",
      "metadata": {
        "id": "vpwjQplkVK0m",
        "colab_type": "code",
        "outputId": "e1696a5d-6aa4-4161-9c2c-6e0da81fb6de",
        "colab": {
          "base_uri": "https://localhost:8080/",
          "height": 35
        }
      },
      "source": [
        "cmd_string1 = 'git config --global user.name {0}'.format(user)\n",
        "os.system(cmd_string1)\n",
        "\n",
        "cmd_string2 = 'git config --global user.email {0}'.format(email)\n",
        "os.system(cmd_string2)\n",
        "\n",
        "password = urllib.parse.quote(password) # your password is converted into url format\n",
        "\n",
        "cmd_string3 = 'git clone https://{0}:{1}@{2}.git'.format(user,password,locationOfRepo)\n",
        "\n",
        "os.system(cmd_string3)"
      ],
      "execution_count": 0,
      "outputs": [
        {
          "output_type": "execute_result",
          "data": {
            "text/plain": [
              "0"
            ]
          },
          "metadata": {
            "tags": []
          },
          "execution_count": 4
        }
      ]
    },
    {
      "cell_type": "markdown",
      "metadata": {
        "id": "xuorxpWzU0Dp",
        "colab_type": "text"
      },
      "source": [
        "**Step eight:**\n",
        "\n",
        "Change folder to save file:"
      ]
    },
    {
      "cell_type": "code",
      "metadata": {
        "id": "VMZrSA4dUPjJ",
        "colab_type": "code",
        "outputId": "555219a7-d1c6-4d65-9836-125c54680a07",
        "colab": {
          "base_uri": "https://localhost:8080/",
          "height": 35
        }
      },
      "source": [
        "#write name after %cd\n",
        "%cd "
      ],
      "execution_count": 0,
      "outputs": [
        {
          "output_type": "stream",
          "text": [
            "/content/testProject\n"
          ],
          "name": "stdout"
        }
      ]
    },
    {
      "cell_type": "markdown",
      "metadata": {
        "id": "8cohxB6wUXG5",
        "colab_type": "text"
      },
      "source": [
        "**Step nine:**\n",
        "\n",
        "Save the files (now in the cloned repo):"
      ]
    },
    {
      "cell_type": "code",
      "metadata": {
        "id": "5vH7GYzgDCiv",
        "colab_type": "code",
        "colab": {}
      },
      "source": [
        "# for Python\n",
        "#YOUR_DATAFRAME_NAME.to_pickle(\"YOUR_DATAFRAME_NAME.pkl\")"
      ],
      "execution_count": 0,
      "outputs": []
    },
    {
      "cell_type": "code",
      "metadata": {
        "id": "4TieMdJyUcXl",
        "colab_type": "code",
        "outputId": "8c1e15d7-de63-418c-a307-76800112762a",
        "colab": {
          "base_uri": "https://localhost:8080/",
          "height": 35
        }
      },
      "source": [
        "## for R\n",
        "from rpy2.robjects import pandas2ri\n",
        "pandas2ri.activate()\n",
        "\n",
        "from rpy2.robjects.packages import importr\n",
        "\n",
        "base = importr('base')\n",
        "base.saveRDS(YOUR_DATAFRAME_NAME,file=\"YOUR_DATAFRAME_NAME.RDS\")\n",
        "##"
      ],
      "execution_count": 0,
      "outputs": [
        {
          "output_type": "execute_result",
          "data": {
            "text/plain": [
              "rpy2.rinterface.NULL"
            ]
          },
          "metadata": {
            "tags": []
          },
          "execution_count": 6
        }
      ]
    },
    {
      "cell_type": "markdown",
      "metadata": {
        "id": "9x1eirQGUfhv",
        "colab_type": "text"
      },
      "source": [
        "**Step ten:**\n",
        "\n",
        "Update repo and verify:"
      ]
    },
    {
      "cell_type": "code",
      "metadata": {
        "id": "9OdmsCPGSA4f",
        "colab_type": "code",
        "colab": {}
      },
      "source": [
        "!git add .\n",
        "!git commit -m 'clean data from Python in colab'  # commit in Colab\n",
        "!git push origin master          # push to github"
      ],
      "execution_count": 0,
      "outputs": []
    },
    {
      "cell_type": "code",
      "metadata": {
        "id": "JkZQrihgZM16",
        "colab_type": "code",
        "colab": {}
      },
      "source": [
        ""
      ],
      "execution_count": 0,
      "outputs": []
    }
  ]
}